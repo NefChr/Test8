{
  "nbformat": 4,
  "nbformat_minor": 0,
  "metadata": {
    "colab": {
      "provenance": [],
      "authorship_tag": "ABX9TyOSdO/ucBUUA8qUq5Ol3oV4",
      "include_colab_link": true
    },
    "kernelspec": {
      "name": "python3",
      "display_name": "Python 3"
    },
    "language_info": {
      "name": "python"
    }
  },
  "cells": [
    {
      "cell_type": "markdown",
      "metadata": {
        "id": "view-in-github",
        "colab_type": "text"
      },
      "source": [
        "<a href=\"https://colab.research.google.com/github/NefChr/Test8/blob/main/%CE%A0%CE%A1%CE%91%CE%9A%CE%A4%CE%99%CE%9A%CE%97_%CE%91%CE%A3%CE%9A%CE%97%CE%A3%CE%97.ipynb\" target=\"_parent\"><img src=\"https://colab.research.google.com/assets/colab-badge.svg\" alt=\"Open In Colab\"/></a>"
      ]
    },
    {
      "cell_type": "code",
      "execution_count": 25,
      "metadata": {
        "id": "QUttbKCrR_kr"
      },
      "outputs": [],
      "source": [
        "import pandas as pd\n",
        "from sklearn.model_selection import train_test_split\n",
        "from sklearn.ensemble import RandomForestClassifier\n",
        "from sklearn.metrics import accuracy_score, classification_report, confusion_matrix\n",
        "import matplotlib.pyplot as plt\n",
        "import seaborn as sns\n",
        "import smtplib\n",
        "from email.mime.text import MIMEText\n",
        "from email.mime.multipart import MIMEMultipart\n",
        "import logging\n",
        "import numpy as np\n",
        "from sklearn.preprocessing import MinMaxScaler\n",
        "from sklearn.ensemble import HistGradientBoostingClassifier"
      ]
    },
    {
      "cell_type": "code",
      "source": [
        "# Φόρτωση των δεδομένων από το GitHub με χρήση της επιλογής low_memory=False\n",
        "url = 'https://github.com/kdemertzis/EKPA/raw/main/Data/DarkNet.csv'\n",
        "data = pd.read_csv(url, low_memory=False)"
      ],
      "metadata": {
        "id": "Vc1fOLnzSM_6"
      },
      "execution_count": 26,
      "outputs": []
    },
    {
      "cell_type": "code",
      "source": [
        "# Εμφάνιση των πρώτων γραμμών του συνόλου δεδομένων για να κατανοήσουμε τη δομή του\n",
        "print(data.head())"
      ],
      "metadata": {
        "colab": {
          "base_uri": "https://localhost:8080/"
        },
        "id": "BG-mREcpSVXf",
        "outputId": "bab75abe-b7fa-42ee-917f-a8eb2088c40c"
      },
      "execution_count": 27,
      "outputs": [
        {
          "output_type": "stream",
          "name": "stdout",
          "text": [
            "          Src_IP  Src_Port          Dst_IP  Dst_Port  Protocol  Flow_Duration  \\\n",
            "0  10.152.152.11     57158   216.58.220.99       443         6            229   \n",
            "1  10.152.152.11     57159   216.58.220.99       443         6            407   \n",
            "2  10.152.152.11     57160   216.58.220.99       443         6            431   \n",
            "3  10.152.152.11     49134  74.125.136.120       443         6            359   \n",
            "4  10.152.152.11     34697  173.194.65.127     19305         6       10778451   \n",
            "\n",
            "   Total_Fwd_Packet  Total_Bwd_packets  Total_Length_of_Fwd_Packet  \\\n",
            "0                 1                  1                           0   \n",
            "1                 1                  1                           0   \n",
            "2                 1                  1                           0   \n",
            "3                 1                  1                           0   \n",
            "4               591                400                       64530   \n",
            "\n",
            "   Total_Length_of_Bwd_Packet  ...  Active_Mean  Active_Std  Active_Max  \\\n",
            "0                           0  ...            0           0           0   \n",
            "1                           0  ...            0           0           0   \n",
            "2                           0  ...            0           0           0   \n",
            "3                           0  ...            0           0           0   \n",
            "4                        6659  ...            0           0           0   \n",
            "\n",
            "   Active_Min         Idle_Mean     Idle_Std          Idle_Max  \\\n",
            "0           0                 0        0.000                 0   \n",
            "1           0                 0        0.000                 0   \n",
            "2           0                 0        0.000                 0   \n",
            "3           0                 0        0.000                 0   \n",
            "4           0  1437760000000000  3117718.131  1437760000000000   \n",
            "\n",
            "           Idle_Min  Label-1          Label-2  \n",
            "0                 0  Non-Tor  AUDIO-STREAMING  \n",
            "1                 0  Non-Tor  AUDIO-STREAMING  \n",
            "2                 0  Non-Tor  AUDIO-STREAMING  \n",
            "3                 0  Non-Tor  AUDIO-STREAMING  \n",
            "4  1437760000000000  Non-Tor  AUDIO-STREAMING  \n",
            "\n",
            "[5 rows x 83 columns]\n"
          ]
        }
      ]
    },
    {
      "cell_type": "code",
      "source": [
        "# Αντικατάσταση των τιμών '?' με NaN\n",
        "data.replace('?', np.nan, inplace=True)"
      ],
      "metadata": {
        "id": "t-ZLUJE0SaJA"
      },
      "execution_count": 28,
      "outputs": []
    },
    {
      "cell_type": "code",
      "source": [
        "# Αντικατάσταση των άπειρων τιμών με NaN στις αριθμητικές στήλες\n",
        "for column in data.select_dtypes(include=[np.number]).columns:\n",
        "    data[column].replace([np.inf, -np.inf], np.nan, inplace=True)"
      ],
      "metadata": {
        "id": "8X88R9axSd-t"
      },
      "execution_count": 29,
      "outputs": []
    },
    {
      "cell_type": "code",
      "source": [
        "# Γέμισμα των κενών τιμών με την μέση τιμή (για αριθμητικές στήλες) ή την συχνότερη τιμή (για κατηγορηματικές στήλες)\n",
        "for column in data.columns:\n",
        "    if data[column].dtype == 'object':\n",
        "        data[column].fillna(data[column].mode()[0], inplace=True)\n",
        "    else:\n",
        "        data[column].fillna(data[column].mean(), inplace=True)"
      ],
      "metadata": {
        "id": "Ur8Nf31aSp0N"
      },
      "execution_count": 30,
      "outputs": []
    },
    {
      "cell_type": "code",
      "source": [
        "# Κωδικοποίηση κατηγορικών στηλών με One-Hot Encoding\n",
        "data_encoded = pd.get_dummies(data, columns=['Src_IP', 'Dst_IP', 'Label-1', 'Label-2'])"
      ],
      "metadata": {
        "id": "j3XJO7cKb0Do"
      },
      "execution_count": 31,
      "outputs": []
    },
    {
      "cell_type": "code",
      "source": [
        "# Διαχωρισμός χαρακτηριστικών (features) και ετικέτας (label)\n",
        "# Χρησιμοποιούμε τη στήλη 'Label-2' ως ετικέτα για την ανίχνευση κακόβουλης δραστηριότητας\n",
        "X = data.drop(['Label-2', 'Label-1', 'Src_IP', 'Dst_IP'], axis=1)  # Διαγραφή των στήλες που δεν χρειάζονται\n",
        "y = data['Label-2']  # Ετικέτα που πρέπει να προβλεφθεί"
      ],
      "metadata": {
        "id": "jQrACQ3LS1h3"
      },
      "execution_count": 32,
      "outputs": []
    },
    {
      "cell_type": "code",
      "source": [
        "# Εμφάνιση των μοναδικών τιμών της ετικέτας για να δούμε τις κατηγορίες\n",
        "print(y.unique())"
      ],
      "metadata": {
        "colab": {
          "base_uri": "https://localhost:8080/"
        },
        "id": "J9454ANHTAHk",
        "outputId": "8ce6108d-6360-4acb-ad8c-33a6fda2ff38"
      },
      "execution_count": 33,
      "outputs": [
        {
          "output_type": "stream",
          "name": "stdout",
          "text": [
            "['AUDIO-STREAMING' 'Browsing' 'Chat' 'Email' 'File-Transfer'\n",
            " 'File-transfer' 'P2P' 'Video-Streaming' 'Audio-Streaming'\n",
            " 'Video-streaming' 'VOIP']\n"
          ]
        }
      ]
    },
    {
      "cell_type": "code",
      "source": [
        "# Διάσπαση των δεδομένων σε εκπαιδευτικό και επαληθευτικό σύνολο\n",
        "X_train, X_test, y_train, y_test = train_test_split(X, y, test_size=0.3, random_state=42)"
      ],
      "metadata": {
        "id": "rmY44cRTTHCW"
      },
      "execution_count": 34,
      "outputs": []
    },
    {
      "cell_type": "code",
      "source": [
        "# Εκπαίδευση του μοντέλου HistGradientBoostingClassifier\n",
        "model = HistGradientBoostingClassifier(random_state=42)\n",
        "model.fit(X_train, y_train)"
      ],
      "metadata": {
        "colab": {
          "base_uri": "https://localhost:8080/",
          "height": 74
        },
        "collapsed": true,
        "id": "1JB7jIA5czh_",
        "outputId": "377cf4ca-583e-4389-ffa2-e4f9b016fb53"
      },
      "execution_count": 36,
      "outputs": [
        {
          "output_type": "execute_result",
          "data": {
            "text/plain": [
              "HistGradientBoostingClassifier(random_state=42)"
            ],
            "text/html": [
              "<style>#sk-container-id-2 {color: black;background-color: white;}#sk-container-id-2 pre{padding: 0;}#sk-container-id-2 div.sk-toggleable {background-color: white;}#sk-container-id-2 label.sk-toggleable__label {cursor: pointer;display: block;width: 100%;margin-bottom: 0;padding: 0.3em;box-sizing: border-box;text-align: center;}#sk-container-id-2 label.sk-toggleable__label-arrow:before {content: \"▸\";float: left;margin-right: 0.25em;color: #696969;}#sk-container-id-2 label.sk-toggleable__label-arrow:hover:before {color: black;}#sk-container-id-2 div.sk-estimator:hover label.sk-toggleable__label-arrow:before {color: black;}#sk-container-id-2 div.sk-toggleable__content {max-height: 0;max-width: 0;overflow: hidden;text-align: left;background-color: #f0f8ff;}#sk-container-id-2 div.sk-toggleable__content pre {margin: 0.2em;color: black;border-radius: 0.25em;background-color: #f0f8ff;}#sk-container-id-2 input.sk-toggleable__control:checked~div.sk-toggleable__content {max-height: 200px;max-width: 100%;overflow: auto;}#sk-container-id-2 input.sk-toggleable__control:checked~label.sk-toggleable__label-arrow:before {content: \"▾\";}#sk-container-id-2 div.sk-estimator input.sk-toggleable__control:checked~label.sk-toggleable__label {background-color: #d4ebff;}#sk-container-id-2 div.sk-label input.sk-toggleable__control:checked~label.sk-toggleable__label {background-color: #d4ebff;}#sk-container-id-2 input.sk-hidden--visually {border: 0;clip: rect(1px 1px 1px 1px);clip: rect(1px, 1px, 1px, 1px);height: 1px;margin: -1px;overflow: hidden;padding: 0;position: absolute;width: 1px;}#sk-container-id-2 div.sk-estimator {font-family: monospace;background-color: #f0f8ff;border: 1px dotted black;border-radius: 0.25em;box-sizing: border-box;margin-bottom: 0.5em;}#sk-container-id-2 div.sk-estimator:hover {background-color: #d4ebff;}#sk-container-id-2 div.sk-parallel-item::after {content: \"\";width: 100%;border-bottom: 1px solid gray;flex-grow: 1;}#sk-container-id-2 div.sk-label:hover label.sk-toggleable__label {background-color: #d4ebff;}#sk-container-id-2 div.sk-serial::before {content: \"\";position: absolute;border-left: 1px solid gray;box-sizing: border-box;top: 0;bottom: 0;left: 50%;z-index: 0;}#sk-container-id-2 div.sk-serial {display: flex;flex-direction: column;align-items: center;background-color: white;padding-right: 0.2em;padding-left: 0.2em;position: relative;}#sk-container-id-2 div.sk-item {position: relative;z-index: 1;}#sk-container-id-2 div.sk-parallel {display: flex;align-items: stretch;justify-content: center;background-color: white;position: relative;}#sk-container-id-2 div.sk-item::before, #sk-container-id-2 div.sk-parallel-item::before {content: \"\";position: absolute;border-left: 1px solid gray;box-sizing: border-box;top: 0;bottom: 0;left: 50%;z-index: -1;}#sk-container-id-2 div.sk-parallel-item {display: flex;flex-direction: column;z-index: 1;position: relative;background-color: white;}#sk-container-id-2 div.sk-parallel-item:first-child::after {align-self: flex-end;width: 50%;}#sk-container-id-2 div.sk-parallel-item:last-child::after {align-self: flex-start;width: 50%;}#sk-container-id-2 div.sk-parallel-item:only-child::after {width: 0;}#sk-container-id-2 div.sk-dashed-wrapped {border: 1px dashed gray;margin: 0 0.4em 0.5em 0.4em;box-sizing: border-box;padding-bottom: 0.4em;background-color: white;}#sk-container-id-2 div.sk-label label {font-family: monospace;font-weight: bold;display: inline-block;line-height: 1.2em;}#sk-container-id-2 div.sk-label-container {text-align: center;}#sk-container-id-2 div.sk-container {/* jupyter's `normalize.less` sets `[hidden] { display: none; }` but bootstrap.min.css set `[hidden] { display: none !important; }` so we also need the `!important` here to be able to override the default hidden behavior on the sphinx rendered scikit-learn.org. See: https://github.com/scikit-learn/scikit-learn/issues/21755 */display: inline-block !important;position: relative;}#sk-container-id-2 div.sk-text-repr-fallback {display: none;}</style><div id=\"sk-container-id-2\" class=\"sk-top-container\"><div class=\"sk-text-repr-fallback\"><pre>HistGradientBoostingClassifier(random_state=42)</pre><b>In a Jupyter environment, please rerun this cell to show the HTML representation or trust the notebook. <br />On GitHub, the HTML representation is unable to render, please try loading this page with nbviewer.org.</b></div><div class=\"sk-container\" hidden><div class=\"sk-item\"><div class=\"sk-estimator sk-toggleable\"><input class=\"sk-toggleable__control sk-hidden--visually\" id=\"sk-estimator-id-2\" type=\"checkbox\" checked><label for=\"sk-estimator-id-2\" class=\"sk-toggleable__label sk-toggleable__label-arrow\">HistGradientBoostingClassifier</label><div class=\"sk-toggleable__content\"><pre>HistGradientBoostingClassifier(random_state=42)</pre></div></div></div></div></div>"
            ]
          },
          "metadata": {},
          "execution_count": 36
        }
      ]
    },
    {
      "cell_type": "code",
      "source": [
        "# Πρόβλεψη στο επαληθευτικό σύνολο\n",
        "y_pred = model.predict(X_test)"
      ],
      "metadata": {
        "id": "1ocmSAK6dC7X"
      },
      "execution_count": 37,
      "outputs": []
    },
    {
      "cell_type": "code",
      "source": [
        "# Αξιολόγηση του μοντέλου\n",
        "accuracy = accuracy_score(y_test, y_pred)\n",
        "print(f'Accuracy: {accuracy}')  # Εμφάνιση της ακρίβειας"
      ],
      "metadata": {
        "colab": {
          "base_uri": "https://localhost:8080/"
        },
        "id": "hXnavYjhdSks",
        "outputId": "7c64cedd-394d-42f8-a8b9-6eff2dfb3eb8"
      },
      "execution_count": 38,
      "outputs": [
        {
          "output_type": "stream",
          "name": "stdout",
          "text": [
            "Accuracy: 0.8071838242441917\n"
          ]
        }
      ]
    },
    {
      "cell_type": "code",
      "source": [
        "# Εμφάνιση αναφοράς ταξινόμησης (classification report)\n",
        "print(classification_report(y_test, y_pred))"
      ],
      "metadata": {
        "colab": {
          "base_uri": "https://localhost:8080/"
        },
        "id": "p9KyglIydWV2",
        "outputId": "f32cd1dc-fcf2-4e47-dcf8-b582fa4305fe"
      },
      "execution_count": 39,
      "outputs": [
        {
          "output_type": "stream",
          "name": "stdout",
          "text": [
            "                 precision    recall  f1-score   support\n",
            "\n",
            "AUDIO-STREAMING       0.92      0.79      0.85       442\n",
            "Audio-Streaming       0.85      0.70      0.77      1805\n",
            "       Browsing       0.77      0.86      0.82      1532\n",
            "           Chat       0.65      0.88      0.75      3422\n",
            "          Email       0.84      0.38      0.53      1840\n",
            "  File-Transfer       0.88      0.86      0.87      3401\n",
            "  File-transfer       0.08      0.21      0.12        24\n",
            "            P2P       0.99      0.99      0.99      4150\n",
            "           VOIP       0.67      0.47      0.55      1093\n",
            "Video-Streaming       0.75      0.85      0.80      2793\n",
            "Video-streaming       0.36      0.36      0.36        72\n",
            "\n",
            "       accuracy                           0.81     20574\n",
            "      macro avg       0.71      0.67      0.67     20574\n",
            "   weighted avg       0.82      0.81      0.80     20574\n",
            "\n"
          ]
        }
      ]
    },
    {
      "cell_type": "code",
      "source": [
        "# Εμφάνιση του confusion matrix\n",
        "conf_matrix = confusion_matrix(y_test, y_pred)\n",
        "print(conf_matrix)"
      ],
      "metadata": {
        "colab": {
          "base_uri": "https://localhost:8080/"
        },
        "id": "xElaGzvndaHW",
        "outputId": "a06aff89-73a1-43f1-c0d0-b3f386523ba4"
      },
      "execution_count": 40,
      "outputs": [
        {
          "output_type": "stream",
          "name": "stdout",
          "text": [
            "[[ 350    0   18    1    0   36    0    9    0   28    0]\n",
            " [   0 1265    8   25    2   36    1    0    1  436   31]\n",
            " [   0    2 1325    4    2  139    7    5    1   47    0]\n",
            " [   5   21   27 3013   72   36    7    3  158   79    1]\n",
            " [   1    6   11  984  703   38    6    2   78   11    0]\n",
            " [   6   34  155   51   36 2922   24   14   14  144    1]\n",
            " [   0    1    0    1    0   14    5    3    0    0    0]\n",
            " [   5    6   25    2    1    5    3 4102    0    1    0]\n",
            " [   1   10    2  502   14   19    3    0  510   30    2]\n",
            " [  12  120  147   24    3   75    5    7    3 2386   11]\n",
            " [   0   31    0    0    1    1    0    0    0   13   26]]\n"
          ]
        }
      ]
    },
    {
      "cell_type": "code",
      "source": [
        "# Οπτικοποίηση του confusion matrix\n",
        "sns.heatmap(conf_matrix, annot=True, fmt='d', cmap='Blues')\n",
        "plt.xlabel('Predicted')\n",
        "plt.ylabel('True')\n",
        "plt.title('Confusion Matrix')\n",
        "plt.show()"
      ],
      "metadata": {
        "colab": {
          "base_uri": "https://localhost:8080/",
          "height": 472
        },
        "id": "v2BLcnIBddWu",
        "outputId": "abfcadc7-90bc-48b3-ed5b-1a7c065a065e"
      },
      "execution_count": 41,
      "outputs": [
        {
          "output_type": "display_data",
          "data": {
            "text/plain": [
              "<Figure size 640x480 with 2 Axes>"
            ],
            "image/png": "[encoded data removed]"
          },
          "metadata": {}
        }
      ]
    },
    {
      "cell_type": "code",
      "source": [
        "# Δημιουργία και ρύθμιση του αρχείου καταγραφής\n",
        "logging.basicConfig(filename='security_log.txt', level=logging.INFO,\n",
        "                    format='%(asctime)s - %(levelname)s - %(message)s')"
      ],
      "metadata": {
        "id": "cfPV2rZtdtHW"
      },
      "execution_count": 42,
      "outputs": []
    },
    {
      "cell_type": "code",
      "source": [
        "# Λειτουργία αντιμετώπισης κακόβουλης δραστηριότητας\n",
        "def handle_malicious_activity(row):\n",
        "    # Καταγραφή του περιστατικού\n",
        "    logging.warning(f'Malicious activity detected: {row}')\n",
        "\n",
        "    # Αποστολή ειδοποίησης μέσω email\n",
        "    sender_email = \"your_email@example.com\"\n",
        "    receiver_email = \"admin@example.com\"\n",
        "    password = \"your_password\"\n",
        "\n",
        "    message = MIMEMultipart(\"alternative\")\n",
        "    message[\"Subject\"] = \"Alert: Malicious Activity Detected\"\n",
        "    message[\"From\"] = sender_email\n",
        "    message[\"To\"] = receiver_email\n",
        "\n",
        "    text = f\"\"\"\\\n",
        "    Alert!\n",
        "    Malicious activity detected:\n",
        "    {row}\n",
        "    \"\"\"\n",
        "    part = MIMEText(text, \"plain\")\n",
        "    message.attach(part)\n",
        "\n",
        "    with smtplib.SMTP_SSL(\"smtp.example.com\", 465) as server:\n",
        "        server.login(sender_email, password)\n",
        "        server.sendmail(sender_email, receiver_email, message.as_string())\n",
        "\n",
        "    # Προσθήκη IP στη λίστα αποκλεισμένων IPs\n",
        "    ip_to_block = row['Src_IP']\n",
        "    with open('blocked_ips.txt', 'a') as file:\n",
        "        file.write(f'{ip_to_block}\\n')"
      ],
      "metadata": {
        "id": "245HCzE8dwRu"
      },
      "execution_count": 43,
      "outputs": []
    },
    {
      "cell_type": "code",
      "source": [
        "# Έλεγχος και αντιμετώπιση κακόβουλης δραστηριότητας στα δεδομένα επαλήθευσης\n",
        "for i, row in X_test.iterrows():\n",
        "    if i < len(y_pred):  # Βεβαιωθείτε ότι ο δείκτης είναι εντός των ορίων του y_pred\n",
        "        if y_pred[i] == 'Malicious':  # Υποθέτουμε ότι η κακόβουλη δραστηριότητα είναι σημειωμένη ως 'Malicious'\n",
        "            handle_malicious_activity(row)"
      ],
      "metadata": {
        "id": "BeajbslIfKoe"
      },
      "execution_count": 46,
      "outputs": []
    }
  ]
}